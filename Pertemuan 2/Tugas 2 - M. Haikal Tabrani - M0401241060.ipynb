{
  "nbformat": 4,
  "nbformat_minor": 0,
  "metadata": {
    "colab": {
      "provenance": []
    },
    "kernelspec": {
      "name": "python3",
      "display_name": "Python 3"
    },
    "language_info": {
      "name": "python"
    }
  },
  "cells": [
    {
      "cell_type": "markdown",
      "source": [
        "# Overview Materi\n",
        "\n",
        "Source: https://www.youtube.com/watch?v=LDRbO9a6XPU"
      ],
      "metadata": {
        "id": "fQjXfMWTFXhh"
      }
    },
    {
      "cell_type": "markdown",
      "source": [
        "Jelaskan secara singkat apa itu decision tree menurut pemahamanmu!"
      ],
      "metadata": {
        "id": "UH5otNgmFY4r"
      }
    },
    {
      "cell_type": "markdown",
      "source": [
        "# Import Data & Libraries"
      ],
      "metadata": {
        "id": "yR_dxhoaIGZY"
      }
    },
    {
      "cell_type": "code",
      "execution_count": 1,
      "metadata": {
        "id": "E3fobMaeFOAe"
      },
      "outputs": [],
      "source": [
        "from __future__ import print_function\n",
        "\n",
        "# label kolom\n",
        "header = [\"color\", \"diameter\", \"label\"]\n",
        "\n",
        "# data training\n",
        "training_data = [\n",
        "    ['Green', 3, 'Apple'],\n",
        "    ['Yellow', 3, 'Apple'],\n",
        "    ['Red', 1, 'Grape'],\n",
        "    ['Red', 1, 'Grape'],\n",
        "    ['Yellow', 3, 'Lemon'],]\n",
        "\n",
        "# data testing\n",
        "testing_data = [\n",
        "    ['Green', 3, 'Apple'],\n",
        "    ['Yellow', 4, 'Apple'],\n",
        "    ['Red', 2, 'Grape'],\n",
        "    ['Red', 1, 'Grape'],\n",
        "    ['Yellow', 3, 'Lemon'],]"
      ]
    },
    {
      "cell_type": "markdown",
      "source": [
        "# Fungsi Dasar"
      ],
      "metadata": {
        "id": "YMsTb3E1MWY6"
      }
    },
    {
      "cell_type": "code",
      "source": [
        "# fungsi mencari apa saja unique value dari suatu kolom\n",
        "def unique_values(data, col_index):\n",
        "    \"\"\"\n",
        "    Mengembalikan list berisi nilai unik dari kolom tertentu.\n",
        "\n",
        "    Parameters:\n",
        "    - data: list of list (dataset)\n",
        "    - col_index: int (index kolom yang ingin dicari nilai uniknya)\n",
        "\n",
        "    Returns:\n",
        "    - list berisi nilai unik\n",
        "    \"\"\"\n",
        "    values = set()\n",
        "    for row in data:\n",
        "        values.add(row[col_index])\n",
        "    return list(values)\n",
        "\n",
        "\n",
        "# contoh penggunaan\n",
        "print(unique_values(training_data, 0))"
      ],
      "metadata": {
        "id": "Bgzx5gwhSTWp",
        "colab": {
          "base_uri": "https://localhost:8080/"
        },
        "outputId": "c7c2ba6a-d254-4e36-c1bd-8c7f8e7097cd"
      },
      "execution_count": 2,
      "outputs": [
        {
          "output_type": "stream",
          "name": "stdout",
          "text": [
            "['Red', 'Green', 'Yellow']\n"
          ]
        }
      ]
    },
    {
      "cell_type": "code",
      "source": [
        "# fungsi Menghitung jumlah unique value dari suatu kolom\n",
        "def class_counts(rows):\n",
        "    \"\"\"\n",
        "    Menghitung jumlah masing-masing nilai unik (label) di dataset.\n",
        "\n",
        "    Parameters:\n",
        "    - rows: list of list (dataset)\n",
        "\n",
        "    Returns:\n",
        "    - counts: dict, key = nilai unik, value = jumlah kemunculan\n",
        "    \"\"\"\n",
        "    counts = {}\n",
        "    for row in rows:\n",
        "        # asumsikan label ada di kolom terakhir\n",
        "        label = row[-1]\n",
        "        if label not in counts:\n",
        "            counts[label] = 0\n",
        "        counts[label] += 1\n",
        "    return counts\n",
        "\n",
        "\n",
        "# contoh penggunaan\n",
        "print(class_counts(training_data))"
      ],
      "metadata": {
        "id": "hhF6uUhrJesN",
        "colab": {
          "base_uri": "https://localhost:8080/"
        },
        "outputId": "948bbaac-9588-477b-8c0a-ccb227be713b"
      },
      "execution_count": 3,
      "outputs": [
        {
          "output_type": "stream",
          "name": "stdout",
          "text": [
            "{'Apple': 2, 'Grape': 2, 'Lemon': 1}\n"
          ]
        }
      ]
    },
    {
      "cell_type": "code",
      "source": [
        "# fungsi pengecekan suatu value numerik atau bukan\n",
        "def is_numeric(value):\n",
        "    \"\"\"\n",
        "    Mengecek apakah value bersifat numerik (int atau float).\n",
        "\n",
        "    Parameters:\n",
        "    - value: objek apapun\n",
        "\n",
        "    Returns:\n",
        "    - True jika numerik, False jika bukan\n",
        "    \"\"\"\n",
        "    return isinstance(value, int) or isinstance(value, float)\n",
        "\n",
        "\n",
        "# contoh penggunaan\n",
        "print(is_numeric(10))\n",
        "print(is_numeric(3.14))\n",
        "print(is_numeric(\"Apple\"))"
      ],
      "metadata": {
        "id": "U9mxqVcnI9vw",
        "colab": {
          "base_uri": "https://localhost:8080/"
        },
        "outputId": "194a599a-43e2-4f33-a178-bcb1e1b269f1"
      },
      "execution_count": 4,
      "outputs": [
        {
          "output_type": "stream",
          "name": "stdout",
          "text": [
            "True\n",
            "True\n",
            "False\n"
          ]
        }
      ]
    },
    {
      "cell_type": "code",
      "source": [
        "class Question:\n",
        "\n",
        "    # inisialisasi kolom dan nilai pertanyaan\n",
        "    def __init__(self, column, value):\n",
        "        self.column = column  # index kolom\n",
        "        self.value = value    # nilai pertanyaan\n",
        "\n",
        "    # mengecek apakah contoh data sesuai dengan pertanyaan\n",
        "    def match(self, example):\n",
        "        val = example[self.column]\n",
        "        if is_numeric(val):\n",
        "            return val >= self.value\n",
        "        else:\n",
        "            return val == self.value\n",
        "\n",
        "    # menampilkan pertanyaan dalam format string yang mudah dibaca\n",
        "    def __repr__(self):\n",
        "        condition = \">=\" if is_numeric(self.value) else \"==\"\n",
        "        return f\"Is column[{self.column}] {condition} {self.value}?\"\n",
        "\n",
        "\n",
        "# contoh penggunaan\n",
        "q1 = Question(0, 'Red')\n",
        "q2 = Question(1, 3)\n",
        "\n",
        "print(q1)\n",
        "print(q2.match(['Green', 4, 'Apple']))"
      ],
      "metadata": {
        "id": "MekftmdeLPRo",
        "colab": {
          "base_uri": "https://localhost:8080/"
        },
        "outputId": "72d9289b-8c2d-4108-d403-23ec9238dbc5"
      },
      "execution_count": 5,
      "outputs": [
        {
          "output_type": "stream",
          "name": "stdout",
          "text": [
            "Is column[0] == Red?\n",
            "True\n"
          ]
        }
      ]
    },
    {
      "cell_type": "code",
      "source": [
        "# membagi dataset menjadi dua berdasarkan pertanyaan\n",
        "def partition(rows, question):\n",
        "    \"\"\"\n",
        "    Membagi dataset menjadi dua bagian:\n",
        "    - true_rows: baris yang memenuhi pertanyaan\n",
        "    - false_rows: baris yang tidak memenuhi pertanyaan\n",
        "    \"\"\"\n",
        "    true_rows, false_rows = [], []\n",
        "    for row in rows:\n",
        "        if question.match(row):\n",
        "            true_rows.append(row)\n",
        "        else:\n",
        "            false_rows.append(row)\n",
        "    return true_rows, false_rows\n",
        "\n",
        "\n",
        "# contoh penggunaan\n",
        "q = Question(0, 'Red')\n",
        "true_rows, false_rows = partition(training_data, q)\n",
        "\n",
        "print(\"True rows:\")\n",
        "for row in true_rows:\n",
        "    print(row)\n",
        "\n",
        "print(\"\\nFalse rows:\")\n",
        "for row in false_rows:\n",
        "    print(row)"
      ],
      "metadata": {
        "id": "Y3lTf9NbL8Ik",
        "colab": {
          "base_uri": "https://localhost:8080/"
        },
        "outputId": "805bc7c4-13a9-450e-896f-5cf16755b201"
      },
      "execution_count": 6,
      "outputs": [
        {
          "output_type": "stream",
          "name": "stdout",
          "text": [
            "True rows:\n",
            "['Red', 1, 'Grape']\n",
            "['Red', 1, 'Grape']\n",
            "\n",
            "False rows:\n",
            "['Green', 3, 'Apple']\n",
            "['Yellow', 3, 'Apple']\n",
            "['Yellow', 3, 'Lemon']\n"
          ]
        }
      ]
    },
    {
      "cell_type": "markdown",
      "source": [
        "**apa itu gini impurity?**\n",
        "<br> gini impurity berfungsi mengukur tingkat ketidakmurnian atau ketidakteraturan pada sebuah simpul (node) dalam pohon"
      ],
      "metadata": {
        "id": "X4D5BkyeMdSG"
      }
    },
    {
      "cell_type": "code",
      "source": [
        "# menghitung nilai Gini Impurity untuk sebuah dataset\n",
        "def gini(rows):\n",
        "    \"\"\"\n",
        "    Menghitung Gini Impurity untuk dataset.\n",
        "\n",
        "    Gini Impurity = 1 - sum(p_i^2)\n",
        "    dimana p_i adalah proporsi tiap label\n",
        "    \"\"\"\n",
        "    counts = class_counts(rows)\n",
        "    impurity = 1\n",
        "    total = len(rows)\n",
        "    for lbl in counts:\n",
        "        prob_of_lbl = counts[lbl] / total\n",
        "        impurity -= prob_of_lbl ** 2\n",
        "    return impurity\n",
        "\n",
        "# contoh penggunaan\n",
        "print(gini(training_data))\n",
        "\n",
        "q = Question(0, 'Red')\n",
        "true_rows, false_rows = partition(training_data, q)\n",
        "print(\"Gini True Rows:\", gini(true_rows))\n",
        "print(\"Gini False Rows:\", gini(false_rows))\n"
      ],
      "metadata": {
        "id": "DmAnmSzFMKtA",
        "colab": {
          "base_uri": "https://localhost:8080/"
        },
        "outputId": "facf8a8f-050a-4b5c-e564-d499733b0395"
      },
      "execution_count": 7,
      "outputs": [
        {
          "output_type": "stream",
          "name": "stdout",
          "text": [
            "0.6399999999999999\n",
            "Gini True Rows: 0.0\n",
            "Gini False Rows: 0.4444444444444445\n"
          ]
        }
      ]
    },
    {
      "cell_type": "markdown",
      "source": [
        "**apa itu information gain?**\n",
        "<br> information gain berfungsi mengukur seberapa efektif sebuah fitur dalam memisahkan data berdasarkan kelas-kelasnya"
      ],
      "metadata": {
        "id": "SyxWlLNOM_2U"
      }
    },
    {
      "cell_type": "code",
      "source": [
        "# menghitung nilai Information Gain dari pemisahan dataset\n",
        "def info_gain(left, right, current_uncertainty):\n",
        "    \"\"\"\n",
        "    Menghitung Information Gain dari pemisahan dataset menjadi dua bagian.\n",
        "\n",
        "    Parameters:\n",
        "    - left: list, baris yang memenuhi pertanyaan\n",
        "    - right: list, baris yang tidak memenuhi pertanyaan\n",
        "    - current_uncertainty: float, Gini impurity sebelum split\n",
        "\n",
        "    Returns:\n",
        "    - float, Information Gain\n",
        "    \"\"\"\n",
        "    p = float(len(left)) / (len(left) + len(right))\n",
        "    return current_uncertainty - p * gini(left) - (1 - p) * gini(right)\n",
        "\n",
        "# contoh penggunaan\n",
        "current_uncertainty = gini(training_data)\n",
        "\n",
        "q = Question(0, 'Red')\n",
        "true_rows, false_rows = partition(training_data, q)\n",
        "\n",
        "gain = info_gain(true_rows, false_rows, current_uncertainty)\n",
        "print(\"Information Gain:\", gain)\n"
      ],
      "metadata": {
        "id": "rObVucEEMiIZ",
        "colab": {
          "base_uri": "https://localhost:8080/"
        },
        "outputId": "8d33868f-1494-4be4-96e6-dc7891af48ac"
      },
      "execution_count": 8,
      "outputs": [
        {
          "output_type": "stream",
          "name": "stdout",
          "text": [
            "Information Gain: 0.37333333333333324\n"
          ]
        }
      ]
    },
    {
      "cell_type": "code",
      "source": [
        "# mencari pertanyaan terbaik untuk membagi dataset berdasarkan information gain tertinggi\n",
        "def find_best_split(rows):\n",
        "    \"\"\"\n",
        "    Mencari pertanyaan terbaik untuk membagi dataset\n",
        "    berdasarkan Information Gain tertinggi.\n",
        "    \"\"\"\n",
        "    best_gain = 0  # nilai Information Gain tertinggi\n",
        "    best_question = None\n",
        "    current_uncertainty = gini(rows)\n",
        "    n_features = len(rows[0]) - 1  # kolom terakhir adalah label\n",
        "\n",
        "    for col in range(n_features):\n",
        "        # dapatkan semua nilai unik di kolom ini\n",
        "        values = set(row[col] for row in rows)\n",
        "\n",
        "        for val in values:\n",
        "            question = Question(col, val)\n",
        "\n",
        "            # splitting the dataset\n",
        "            true_rows, false_rows = partition(rows, question)\n",
        "\n",
        "            # Skip this split if it doesn't divide the dataset\n",
        "            if len(true_rows) == 0 or len(false_rows) == 0:\n",
        "                continue\n",
        "\n",
        "            # hitung Information Gain\n",
        "            gain = info_gain(true_rows, false_rows, current_uncertainty)\n",
        "\n",
        "            # update best gain dan best question\n",
        "            if gain >= best_gain:\n",
        "                best_gain, best_question = gain, question\n",
        "\n",
        "    return best_gain, best_question\n",
        "\n",
        "# contoh penggunaan\n",
        "best_gain, best_question = find_best_split(training_data)\n",
        "print(\"Best Gain:\", best_gain)\n",
        "print(\"Best Question:\", best_question)\n"
      ],
      "metadata": {
        "id": "OK8Lc7koOIyS",
        "colab": {
          "base_uri": "https://localhost:8080/"
        },
        "outputId": "0c43f19c-9952-4c09-c544-b877bffedb2e"
      },
      "execution_count": 9,
      "outputs": [
        {
          "output_type": "stream",
          "name": "stdout",
          "text": [
            "Best Gain: 0.37333333333333324\n",
            "Best Question: Is column[1] >= 3?\n"
          ]
        }
      ]
    },
    {
      "cell_type": "markdown",
      "source": [
        "# Fungsi Decision Tree"
      ],
      "metadata": {
        "id": "t225xaaIPGow"
      }
    },
    {
      "cell_type": "code",
      "source": [
        "# merepresentasikan node daun (leaf) pada decision tree yang berisi hasil prediksi\n",
        "class Leaf:\n",
        "\n",
        "    # inisialisasi leaf dengan menghitung jumlah kemunculan tiap kelas\n",
        "    def __init__(self, rows):\n",
        "        self.predictions = class_counts(rows)\n",
        "\n",
        "leaf = Leaf(training_data)\n",
        "print(leaf.predictions)\n"
      ],
      "metadata": {
        "id": "3KXNVwMPOZ5c",
        "colab": {
          "base_uri": "https://localhost:8080/"
        },
        "outputId": "b661cb64-2bbc-4657-fbd0-016cf9925508"
      },
      "execution_count": 10,
      "outputs": [
        {
          "output_type": "stream",
          "name": "stdout",
          "text": [
            "{'Apple': 2, 'Grape': 2, 'Lemon': 1}\n"
          ]
        }
      ]
    },
    {
      "cell_type": "code",
      "source": [
        "# merepresentasikan node keputusan (decision node) yang berisi pertanyaan dan cabang\n",
        "class Decision_Node:\n",
        "\n",
        "    # inisialisasi node dengan pertanyaan, cabang benar, dan cabang salah\n",
        "    def __init__(self,\n",
        "                 question,\n",
        "                 true_branch,\n",
        "                 false_branch):\n",
        "        self.question = Question\n",
        "        self.true_branch = true_branch\n",
        "        self.false_branch = false_branch\n",
        "\n"
      ],
      "metadata": {
        "id": "gktUwUY-P-eN"
      },
      "execution_count": 11,
      "outputs": []
    },
    {
      "cell_type": "code",
      "source": [
        "# membangun decision tree secara rekursif\n",
        "def build_tree(rows):\n",
        "    gain, question = find_best_split(rows)\n",
        "\n",
        "    if gain == 0:\n",
        "        return Leaf(rows)\n",
        "\n",
        "    true_rows, false_rows = partition(rows, question)\n",
        "\n",
        "    true_branch = build_tree(true_rows)\n",
        "    false_branch = build_tree(false_rows)\n",
        "\n",
        "    return Decision_Node(question, true_branch, false_branch)\n"
      ],
      "metadata": {
        "id": "_cWHvsMKPPsk"
      },
      "execution_count": 12,
      "outputs": []
    },
    {
      "cell_type": "code",
      "source": [
        "# mencetak struktur decision tree secara rekursif dalam format teks\n",
        "def print_tree(node, spacing=\"\"):\n",
        "\n",
        "    # base case: jika sudah mencapai leaf\n",
        "    if isinstance(node, Leaf):\n",
        "        print(spacing + \"Predict\", node.predictions)\n",
        "        return\n",
        "\n",
        "    # mencetak pertanyaan pada node saat ini\n",
        "    print(spacing + str(node.question))\n",
        "\n",
        "    # mencetak cabang true secara rekursif\n",
        "    print(spacing + '--> True:')\n",
        "    print_tree(node.true_branch, spacing + \"  \")\n",
        "\n",
        "    # mencetak cabang false secara rekursif\n",
        "    print(spacing + '--> False:')\n",
        "    print_tree(node.false_branch, spacing + \"  \")\n",
        "\n",
        "# contoh penggunaan\n",
        "my_tree = build_tree(training_data)\n",
        "print_tree(my_tree)\n"
      ],
      "metadata": {
        "id": "tx_AbjiYPS05",
        "colab": {
          "base_uri": "https://localhost:8080/"
        },
        "outputId": "7a54c716-5958-4c08-9ac0-c3ea4bfa0adf"
      },
      "execution_count": 13,
      "outputs": [
        {
          "output_type": "stream",
          "name": "stdout",
          "text": [
            "<class '__main__.Question'>\n",
            "--> True:\n",
            "  <class '__main__.Question'>\n",
            "  --> True:\n",
            "    Predict {'Apple': 1, 'Lemon': 1}\n",
            "  --> False:\n",
            "    Predict {'Apple': 1}\n",
            "--> False:\n",
            "  Predict {'Grape': 2}\n"
          ]
        }
      ]
    },
    {
      "cell_type": "code",
      "source": [
        "# mengklasifikasikan satu baris data menggunakan decision tree\n",
        "def classify(row, node):\n",
        "    if isinstance(node, Leaf):\n",
        "        # kembalikan label dengan jumlah terbanyak\n",
        "        return max(node.predictions, key=node.predictions.get)\n",
        "    if node.question.match(row):\n",
        "        return classify(row, node.true_branch)\n",
        "    else:\n",
        "        return classify(row, node.false_branch)\n",
        "\n"
      ],
      "metadata": {
        "id": "tchvhQc-PVC2"
      },
      "execution_count": 19,
      "outputs": []
    },
    {
      "cell_type": "code",
      "source": [
        "# menampilkan prediksi pada leaf dalam format persentase\n",
        "def print_leaf(counts):\n",
        "    total = sum(counts.values())\n",
        "    probs = {}\n",
        "    for lbl in counts:\n",
        "        probs[lbl] = f\"{int(counts[lbl] / total * 100)}%\"\n",
        "    return probs\n",
        "\n",
        "# contoh penggunaan\n",
        "leaf = Leaf(training_data)\n",
        "probs = print_leaf(leaf.predictions)\n",
        "print(\"Prediksi persentase:\", probs)\n"
      ],
      "metadata": {
        "id": "w8r0lzWpQM7c",
        "colab": {
          "base_uri": "https://localhost:8080/"
        },
        "outputId": "a80c68d9-f90b-42ec-d977-8182dcb5cc0f"
      },
      "execution_count": 20,
      "outputs": [
        {
          "output_type": "stream",
          "name": "stdout",
          "text": [
            "Prediksi persentase: {'Apple': '40%', 'Grape': '40%', 'Lemon': '20%'}\n"
          ]
        }
      ]
    },
    {
      "cell_type": "markdown",
      "source": [
        "# Predict Using Decision Tree"
      ],
      "metadata": {
        "id": "JLT1_TuuQWlI"
      }
    },
    {
      "cell_type": "code",
      "source": [
        "# menguji decision tree dengan data uji dan membandingkan hasil prediksi dengan label asli\n",
        "for row in testing_data:\n",
        "    prediction_counts = classify(row, my_tree)\n",
        "    prediction = print_leaf(prediction_counts)\n",
        "    print(\"Data:\", row, \"Prediksi:\", prediction, \"Label asli:\", row[-1])\n"
      ],
      "metadata": {
        "id": "DhG5NCwHQSlF"
      },
      "execution_count": null,
      "outputs": []
    }
  ]
}